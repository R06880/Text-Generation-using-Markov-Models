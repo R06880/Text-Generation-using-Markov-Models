{
 "cells": [
  {
   "cell_type": "markdown",
   "metadata": {},
   "source": [
    "## Lyrics Generation using Markov Models"
   ]
  },
  {
   "cell_type": "code",
   "execution_count": 31,
   "metadata": {},
   "outputs": [],
   "source": [
    "# function to generate a table from a text\n",
    "# a table contains all the string with k characters as keys and the value for a possible key is\n",
    "# another dictionary\n",
    "# this dictioary contains as keys all the possible characters that can follow the k-string\n",
    "# and the values in this dictionary are the the number of times a key appears\n",
    "\n",
    "def generate_table(data, k=4):\n",
    "    \n",
    "    table = {}\n",
    "    \n",
    "    for i in range (len(data)-k):\n",
    "        \n",
    "        X = data[i:i+k]\n",
    "        Y = data[i+k]\n",
    "        \n",
    "        if table.get(X) is None:\n",
    "            \n",
    "            table[X] = {}\n",
    "            table[X][Y] = 1\n",
    "        \n",
    "        else:\n",
    "            if table[X].get(Y) is None:\n",
    "                \n",
    "                table[X][Y] = 1\n",
    "            \n",
    "            else:\n",
    "                \n",
    "                table[X][Y] = table[X][Y]+1\n",
    "                \n",
    "        \n",
    "    return table \n",
    "                    \n",
    "    "
   ]
  },
  {
   "cell_type": "code",
   "execution_count": 32,
   "metadata": {},
   "outputs": [],
   "source": [
    "# function to create a table of probabilities from an original table\n",
    "# the function will go over each key in table\n",
    "# for each key will count the total number of appearances for it\n",
    "# then will go for each character that follow a key a divide its number of apperances over\n",
    "# the total sum\n",
    "# this will give the probbaility for each character to follow a certain k-length string\n",
    "\n",
    "\n",
    "def table_to_probs(table):\n",
    "    \n",
    "    for key in table.keys():\n",
    "        \n",
    "        suma = 0\n",
    "        \n",
    "        for value in table[key].values():\n",
    "            \n",
    "            suma = suma + value\n",
    "        \n",
    "        for key2 in table[key].keys():\n",
    "            \n",
    "            table[key][key2] = table[key][key2]/suma\n",
    "            \n",
    "    return table"
   ]
  },
  {
   "cell_type": "code",
   "execution_count": 33,
   "metadata": {},
   "outputs": [
    {
     "name": "stdout",
     "output_type": "stream",
     "text": [
      "Loaded the dataset.\n"
     ]
    }
   ],
   "source": [
    "# read the data\n",
    "\n",
    "text_path = \"manele.txt\"\n",
    "def load_text(filename):\n",
    "    with open(filename,encoding='utf8') as f:\n",
    "        return f.read().lower()\n",
    "    \n",
    "text = load_text(text_path)\n",
    "text = text.replace(\"\\n\",\" \")\n",
    "\n",
    "print('Loaded the dataset.')"
   ]
  },
  {
   "cell_type": "code",
   "execution_count": 34,
   "metadata": {},
   "outputs": [],
   "source": [
    "# function to create a markov chain\n",
    "# this function will produce a table of probabilities from a text\n",
    "\n",
    "def markov_chain(text):\n",
    "    \n",
    "    table = generate_table(text)\n",
    "    \n",
    "    t = table_to_probs(table)\n",
    "    \n",
    "    return t"
   ]
  },
  {
   "cell_type": "code",
   "execution_count": 35,
   "metadata": {},
   "outputs": [],
   "source": [
    "# build a table of probabilities named model\n",
    "\n",
    "model = markov_chain(text)\n",
    "\n",
    "#print(model)"
   ]
  },
  {
   "cell_type": "code",
   "execution_count": 36,
   "metadata": {},
   "outputs": [],
   "source": [
    "import numpy as np\n",
    "\n",
    "\n",
    "# function to return the next character from a starting sentence\n",
    "# it will use only the last k characters from the sentence and will \n",
    "# get all the possible characters and their probabilities that follow the sentence\n",
    "# after that, the function will sample randomly and return a character based on their \n",
    "# probabilities\n",
    "\n",
    "\n",
    "\n",
    "def sample_next (context, model, k):\n",
    "    \n",
    "    context = context[-k:]\n",
    "    \n",
    "    if model.get(context) is None:\n",
    "        return \" \"\n",
    "    \n",
    "    possible_chars = list(model[context].keys())\n",
    "    possible_values = list(model[context].values())\n",
    "    \n",
    "    #print(possible_chars)\n",
    "    #print(possible_values)\n",
    "    \n",
    "    return np.random.choice(possible_chars, p = possible_values)"
   ]
  },
  {
   "cell_type": "code",
   "execution_count": 37,
   "metadata": {},
   "outputs": [],
   "source": [
    "# function to generate text based on a start sentence\n",
    "# it will generate the character that follows the starting sentence\n",
    "# then it will append that predicted character to the original sentence\n",
    "# and it will continue to generate characters in this manner\n",
    "\n",
    "def generate_text(start, k = 4, max_len = 1000):\n",
    "    \n",
    "    res = start\n",
    "    \n",
    "    start = start[-k:]\n",
    "    \n",
    "    for i in range(max_len):\n",
    "        \n",
    "        char = sample_next(start, model, k)\n",
    "        \n",
    "        res = res+char\n",
    "        \n",
    "        start = res[-k:]\n",
    "        \n",
    "    return res\n",
    "    "
   ]
  },
  {
   "cell_type": "code",
   "execution_count": 38,
   "metadata": {},
   "outputs": [
    {
     "name": "stdout",
     "output_type": "stream",
     "text": [
      "langa cine, pentru tine ai dau seama cat e de ce-mi planga cine, lange de dor daca pleci  lang noapte auuuu uuuu  ce-ti face langa tine bine vis vis vis vis si orice ai fost ce simt eu nu te-as paradis dis dis dis iti faci sa tem ca je tàime cu tine, lang in urma te iubitu' ce-mi place iubesc cat doresc oriunde azi il voi uita chiar cand si oriunde azi il voi uita chiar daca nu-ti arat cat te-as paradis dis dar mult, mai pot doar pe tine nu te-as paris  auuuu uuu ce-mi iei iubire  niciodata zic : hai in vis vis vis si ti-am gresit  te iubire pentru cine, doare mineata  nici o sa pot dor de ai fac viata? de vis vis  ce-mi plang noaptea  as fac viata nu ma satur de orice aveam mai mult cu fie cand stapanesti de feri..  toate prima sa ma singurata paris  am stiut ca doar pe jumatatea sora imi va fi sigur niciodata in vis vis  am sa mor de orice astept in viata in viata in brate e cand te iubesc si ti-am cuvinte si orice ai face  parca ai fi si alt pont sa-ti ia locul, numai planga tine zi te iubesc un mine, da, doar pe zi te pentru tine nu gresesc oriunde ai face dragostea de viata si ce dragul tau cu fiecare numai mult nu ma satur de-al tau dor de mult dragul tau de frumoasa iti pot schimba of trista-i vis dis dis dis iti fac viata? de oriunde ce-mi iei vis vis am si langa mine iubito ti-am raspunde azi il voi sufericire pentru tine clipe desparte trezesti tu, nu se vede ce-mi paris  ce-ti mai pot dor de feri..  toate trece toata zic : hai in viata nu ma tem ca ai dau se vor opri  de fericire  te iubire pentru cine, da de fericire pentru tine nu se vor opri nu vrea, sa-ti ma ta mine clipe de orice ai langa tine atunci cat te astept in brate e bine ai fi si lacrimile n-am sa ma singuratatea parca mea noapte as vrea, sa-ntelegi cat te iubire pentru tine esti zambind stapanesti zambind si lacrimile nu pot spune langa tine la nicioadata singurata nu ma sa pleci  lang in viata zic : hai iubito ti-am promis traim o datorie totul imi place iubirea? vrea si imi plang de frica satu\n"
     ]
    }
   ],
   "source": [
    "text = generate_text(\"langa\", k=4, max_len=2000)\n",
    "\n",
    "print(text)"
   ]
  },
  {
   "cell_type": "code",
   "execution_count": 39,
   "metadata": {},
   "outputs": [],
   "source": [
    "# the word may seem sometimes to have no relationship between them, because we are only \n",
    "# storing the syntactic information"
   ]
  },
  {
   "cell_type": "code",
   "execution_count": null,
   "metadata": {},
   "outputs": [],
   "source": []
  }
 ],
 "metadata": {
  "kernelspec": {
   "display_name": "Python 3",
   "language": "python",
   "name": "python3"
  },
  "language_info": {
   "codemirror_mode": {
    "name": "ipython",
    "version": 3
   },
   "file_extension": ".py",
   "mimetype": "text/x-python",
   "name": "python",
   "nbconvert_exporter": "python",
   "pygments_lexer": "ipython3",
   "version": "3.6.10"
  }
 },
 "nbformat": 4,
 "nbformat_minor": 4
}
