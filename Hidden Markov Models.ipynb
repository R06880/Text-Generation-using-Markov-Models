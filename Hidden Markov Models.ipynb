{
 "cells": [
  {
   "cell_type": "markdown",
   "metadata": {},
   "source": [
    "## Text Generation with Hidden Markov Models"
   ]
  },
  {
   "cell_type": "code",
   "execution_count": 57,
   "metadata": {},
   "outputs": [],
   "source": [
    "# function to generate a table from a text\n",
    "# a table contains all the string with k characters as keys and the value for a possible key is\n",
    "# another dictionary\n",
    "# this dictioary contains as keys all the possible characters that can follow the k-string\n",
    "# and the values in this dictionary are the the number of times a key appears\n",
    "\n",
    "def generate_table(data, k=4):\n",
    "    \n",
    "    table = {}\n",
    "    \n",
    "    for i in range (len(data)-k):\n",
    "        \n",
    "        X = data[i:i+k]\n",
    "        Y = data[i+k]\n",
    "        \n",
    "        if table.get(X) is None:\n",
    "            \n",
    "            table[X] = {}\n",
    "            table[X][Y] = 1\n",
    "        \n",
    "        else:\n",
    "            if table[X].get(Y) is None:\n",
    "                \n",
    "                table[X][Y] = 1\n",
    "            \n",
    "            else:\n",
    "                \n",
    "                table[X][Y] = table[X][Y]+1\n",
    "                \n",
    "        \n",
    "    return table \n",
    "                    \n",
    "    \n",
    "    "
   ]
  },
  {
   "cell_type": "code",
   "execution_count": 58,
   "metadata": {},
   "outputs": [
    {
     "name": "stdout",
     "output_type": "stream",
     "text": [
      "{'hell': {'o': 2, 'i': 1}, 'ello': {' ': 2}, 'llo ': {'h': 2}, 'lo h': {'e': 2}, 'o he': {'l': 2}, ' hel': {'l': 2}}\n"
     ]
    }
   ],
   "source": [
    "# example of what the function generate_table does\n",
    "\n",
    "T = generate_table(\"hello hello helli\",4)\n",
    "print(T)"
   ]
  },
  {
   "cell_type": "code",
   "execution_count": 59,
   "metadata": {},
   "outputs": [],
   "source": [
    "# function to create a table of probabilities from an original table\n",
    "# the function will go over each key in table\n",
    "# for each key will count the total number of appearances for it\n",
    "# then will go for each character that follow a key a divide its number of apperances over\n",
    "# the total sum\n",
    "# this will give the probbaility for each character to follow a certain k-length string\n",
    "\n",
    "def table_to_probs(table):\n",
    "    \n",
    "    for key in table.keys():\n",
    "        \n",
    "        suma = 0\n",
    "        \n",
    "        for value in table[key].values():\n",
    "            \n",
    "            suma = suma + value\n",
    "        \n",
    "        for key2 in table[key].keys():\n",
    "            \n",
    "            table[key][key2] = table[key][key2]/suma\n",
    "            \n",
    "    return table"
   ]
  },
  {
   "cell_type": "code",
   "execution_count": 60,
   "metadata": {},
   "outputs": [
    {
     "name": "stdout",
     "output_type": "stream",
     "text": [
      "{'hell': {'o': 0.6666666666666666, 'i': 0.3333333333333333}, 'ello': {' ': 1.0}, 'llo ': {'h': 1.0}, 'lo h': {'e': 1.0}, 'o he': {'l': 1.0}, ' hel': {'l': 1.0}}\n"
     ]
    }
   ],
   "source": [
    "# example to show the output of the table_to_probs function\n",
    "\n",
    "t = table_to_probs(T)\n",
    "print(t)"
   ]
  },
  {
   "cell_type": "code",
   "execution_count": 61,
   "metadata": {},
   "outputs": [
    {
     "name": "stdout",
     "output_type": "stream",
     "text": [
      "Loaded the dataset.\n"
     ]
    }
   ],
   "source": [
    "# read the data\n",
    "\n",
    "text_path = \"train_corpus.txt\"\n",
    "def load_text(filename):\n",
    "    with open(filename,encoding='utf8') as f:\n",
    "        return f.read().lower()\n",
    "    \n",
    "text = load_text(text_path)\n",
    "print('Loaded the dataset.')"
   ]
  },
  {
   "cell_type": "code",
   "execution_count": 62,
   "metadata": {},
   "outputs": [],
   "source": [
    "# function to create a markov chain\n",
    "# this function will produce a table of probabilities from a text\n",
    "\n",
    "\n",
    "def markov_chain(text):\n",
    "    \n",
    "    table = generate_table(text)\n",
    "    \n",
    "    t = table_to_probs(table)\n",
    "    \n",
    "    return t"
   ]
  },
  {
   "cell_type": "code",
   "execution_count": 70,
   "metadata": {},
   "outputs": [],
   "source": [
    "# build a table of probabilities named model\n",
    "\n",
    "model = markov_chain(text)\n",
    "\n",
    "#print(model)"
   ]
  },
  {
   "cell_type": "code",
   "execution_count": 64,
   "metadata": {},
   "outputs": [
    {
     "name": "stdout",
     "output_type": "stream",
     "text": [
      "1936\n"
     ]
    }
   ],
   "source": [
    "print(len(table))"
   ]
  },
  {
   "cell_type": "code",
   "execution_count": 65,
   "metadata": {},
   "outputs": [],
   "source": [
    "import numpy as np\n",
    "\n",
    "# function to return the next character from a starting sentence\n",
    "# it will use only the last k characters from the sentence and will \n",
    "# get all the possible characters and their probabilities that follow the sentence\n",
    "# after that, the function will sample randomly and return a character based on their \n",
    "# probabilities\n",
    "\n",
    "def sample_next (context, model, k):\n",
    "    \n",
    "    context = context[-k:]\n",
    "    \n",
    "    if model.get(context) is None:\n",
    "        return \" \"\n",
    "    \n",
    "    possible_chars = list(model[context].keys())\n",
    "    possible_values = list(model[context].values())\n",
    "    \n",
    "    #print(possible_chars)\n",
    "    #print(possible_values)\n",
    "    \n",
    "    return np.random.choice(possible_chars, p = possible_values)"
   ]
  },
  {
   "cell_type": "code",
   "execution_count": 66,
   "metadata": {},
   "outputs": [
    {
     "data": {
      "text/plain": [
       "'n'"
      ]
     },
     "execution_count": 66,
     "metadata": {},
     "output_type": "execute_result"
    }
   ],
   "source": [
    "# example of what the sample_next function does\n",
    "\n",
    "sample_next(\"commo\",model,4)"
   ]
  },
  {
   "cell_type": "code",
   "execution_count": 67,
   "metadata": {},
   "outputs": [],
   "source": [
    "# function to generate text based on a start sentence\n",
    "# it will generate the character that follows the starting sentence\n",
    "# then it will append that predicted character to the original sentence\n",
    "# and it will continue to generate characters in this manner\n",
    "\n",
    "def generate_text(start, k = 4, max_len = 1000):\n",
    "    \n",
    "    res = start\n",
    "    \n",
    "    start = start[-k:]\n",
    "    \n",
    "    for i in range(max_len):\n",
    "        \n",
    "        char = sample_next(start, model, k)\n",
    "        \n",
    "        res = res+char\n",
    "        \n",
    "        start = res[-k:]\n",
    "        \n",
    "    return res\n",
    "    "
   ]
  },
  {
   "cell_type": "code",
   "execution_count": 68,
   "metadata": {},
   "outputs": [
    {
     "name": "stdout",
     "output_type": "stream",
     "text": [
      "dear countrymen, their police of the boundaries who is protect their sacrifice freedom, i bow down today, i bow down today is going this festival of tribal children living in any countrymen hanging in a sensitive the country. i heartily great men today is going frames and gives, our heroes of oppression of our parliament have lost tricolor flag by gives their sacrifice to protect the coming the countrymen, on the commission of independence and sacrifice of our country is not in our countrymen, on these standing for their great series of independence, when our police more for the has registered forces, have in the country.\n",
      "\n",
      "in our parliament to be oppressed? jalianwala bapu. many good wishes of the soldiers of this years, flood rajya sabha and in order to the glory of the series who have been seas with who have jubilee prisons of the countrymen hanging confidence of the festival of the tribal children lives in such a positivity and happiness, flood rainfall the service, for year, on every indian who is not india has tricolor flag on the eternal glory of nilakurinji floods, when our daught new energy.\n",
      "\n",
      "my dear countrymen, we army of the hanging along. this freedom of the tribal children lives in any revolutionary great men hanged on the hanged ones due to be a hundred in the respect the south, it is protect their misery.\n",
      "\n",
      "in our parliament, new energy.\n",
      "\n",
      "my dear country day is going and flood rainfall are country, our soldiers uttarakhand, himachal, many corners of parliament was demanding us to protect their great men the everest and happiness, the sake of freedom of massacrifice of the tried to overcrowding us to the fulfilled. you wishes of nilgiris in the series of their rights by plowing us to protect the world, today their rights by give freedom the are celebrating the soldiers of oppressed to the tricolor of positive the justice more for their rights, our soldiers of independence. this time, when our police from the triumphs went their lives the tricolor flag today'\n"
     ]
    }
   ],
   "source": [
    "text = generate_text(\"dear\", k=4, max_len=2000)\n",
    "\n",
    "print(text)"
   ]
  },
  {
   "cell_type": "code",
   "execution_count": null,
   "metadata": {},
   "outputs": [],
   "source": [
    "# the word may seem sometimes to have no relationship between them, because we are only \n",
    "# storing the syntactic information"
   ]
  }
 ],
 "metadata": {
  "kernelspec": {
   "display_name": "Python 3",
   "language": "python",
   "name": "python3"
  },
  "language_info": {
   "codemirror_mode": {
    "name": "ipython",
    "version": 3
   },
   "file_extension": ".py",
   "mimetype": "text/x-python",
   "name": "python",
   "nbconvert_exporter": "python",
   "pygments_lexer": "ipython3",
   "version": "3.6.10"
  }
 },
 "nbformat": 4,
 "nbformat_minor": 4
}
